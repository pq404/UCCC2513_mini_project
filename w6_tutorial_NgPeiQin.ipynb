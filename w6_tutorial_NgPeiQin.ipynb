{
 "cells": [
  {
   "cell_type": "markdown",
   "id": "c1bc5980-367f-40b6-8ff0-20488d5b4490",
   "metadata": {},
   "source": [
    "# Week 6 Coding Exercises"
   ]
  },
  {
   "cell_type": "code",
   "execution_count": 1,
   "id": "5dd30d50-a690-43da-96aa-c849d205d133",
   "metadata": {},
   "outputs": [],
   "source": [
    "import cv2 as cv\n",
    "import numpy as np\n",
    "import matplotlib.pyplot as plt\n",
    "from utils import display_image, display_images"
   ]
  },
  {
   "cell_type": "markdown",
   "id": "05adb760-fcd0-4e7f-97a9-5b1bcd10eaac",
   "metadata": {},
   "source": [
    "1. Apply custom sharpening kernel of aperture size 3 and 5 as shown below on 'native-bee.png':  \n",
    "$ 3 \\times 3$ kernel:  \n",
    "$ \\begin{bmatrix}\n",
    "0 & -1 & 0 \\\\\n",
    "-1 & 5 & -1 \\\\\n",
    "0 & -1 & 0\\\\\n",
    "\\end{bmatrix}$  \n",
    "$ 5 \\times 5$ kernel:  \n",
    "$ \\begin{bmatrix}\n",
    "-1 & -1 & -1 & -1 & -1 \\\\\n",
    "-1 & -1 & -1 & -1 & -1 \\\\\n",
    "-1 & -1 & 25 & -1 & -1 \\\\\n",
    "-1 & -1 & -1 & -1 & -1 \\\\\n",
    "-1 & -1 & -1 & -1 & -1 \\\\\n",
    "\\end{bmatrix}$  \n",
    "What can you infer from the outputs?"
   ]
  },
  {
   "cell_type": "code",
   "execution_count": 2,
   "id": "cd33dcf8-0acc-4419-bf52-762f85c32ee5",
   "metadata": {},
   "outputs": [],
   "source": [
    "kernel_3x3 = np.array([[0, -1, 0],\n",
    "                       [-1, 5, -1],\n",
    "                       [0, -1, 0]])\n",
    "\n",
    "kernel_5x5 = np.array([[-1, -1, -1, -1, -1],\n",
    "                       [-1, -1, -1, -1, -1],\n",
    "                       [-1, -1, 25, -1, -1],\n",
    "                       [-1, -1, -1, -1, -1],\n",
    "                       [-1, -1, -1, -1, -1]])\n",
    "\n",
    "img = cv.imread(\"images/native-bee.png\")\n",
    "\n",
    "dst_3x3 = cv.filter2D(img, -1, kernel_3x3)\n",
    "dst_5x5 = cv.filter2D(img, -1, kernel_5x5)\n",
    "\n",
    "display_images([img, dst_3x3, dst_5x5], (\"source\", \"3 x 3 kernel\", \"5 x 5 kernel\"))\n",
    "\n",
    "\n",
    "# The 3x3 sharpened image show fine details more crisply, while the 5x5 sharpened image show stronger edges and more noise.\n",
    "# 3x3 sharpening kernel emphasizes the center pixel by subtracting the neighboring pixels' values from it\n",
    "#, enhancing the edges and details in the image.\n",
    "# 5x5 sharpening kernel considers more neighboring pixels \n",
    "# , provides a more pronounced sharpening effect, capturing larger details and more extensive edges."
   ]
  },
  {
   "cell_type": "markdown",
   "id": "36c01dee-e602-42f1-af37-b9f03842be22",
   "metadata": {},
   "source": [
    "2. Apply different image smoothing techniques (e.g. average filter, Gaussian kernel and median filter) on 'noise_lena.jpg' and display the resulting images after the convolution. Comment on the outcomes and deduce the type of noise present on the image."
   ]
  },
  {
   "cell_type": "code",
   "execution_count": 3,
   "id": "34432aad-ad27-44ca-9a0f-6318b8fbe2ce",
   "metadata": {},
   "outputs": [],
   "source": [
    "img = cv.imread(\"images/noise_lena.jpg\")\n",
    "\n",
    "# average filter -> smooth out the image uniformly but blur the edges and details\n",
    "avg_filter = cv.blur(img, (5, 5))\n",
    "\n",
    "# Gaussian filter -> similar to the average filter but gives more weight to the central pixels\n",
    "gaussian_filter = cv.GaussianBlur(img, (5, 5), 0)\n",
    "    \n",
    "# median filter -> it replaces each pixel value with the median of its neighbors, preserving edges while removing noise.\n",
    "median_filter = cv.medianBlur(img, 5)\n",
    "\n",
    "display_images([img, avg_filter, gaussian_filter, median_filter], [\"Original\", \"Average Filter\", \"Gaussian Filter\", \"Median Filter\"])\n",
    "\n",
    "# From the outcomes, type of noise can be deduced is Gauusian Noise \n",
    "# if average and Gaussian filters perform well in reducing the noise, \n",
    "# wheareas Salt-and-Pepper Noise if median filter performs better in removing noise compared to the other filters."
   ]
  },
  {
   "cell_type": "markdown",
   "id": "e1deaaea-c2a4-4f66-a2ed-48e1c511d460",
   "metadata": {},
   "source": [
    "3. Write a program to *segment the boat and the people on it from the background*. Follow the instruction below:\n",
    "    - Use 'boat.jpg' as input.\n",
    "    - Apply Otsu thresholding.\n",
    "    - Draw bounding box to identify the region where the boat and people are located."
   ]
  },
  {
   "cell_type": "code",
   "execution_count": 15,
   "id": "57ba1b43-62aa-4611-97e1-09066ce931ef",
   "metadata": {},
   "outputs": [],
   "source": [
    "img = cv.imread(\"images/boat.jpg\")\n",
    "gray = cv.cvtColor(img, cv.COLOR_BGR2GRAY)\n",
    "# display_image(\"gray\", gray)\n",
    "\n",
    "# thresholding\n",
    "# blur = cv.GaussianBlur(gray,(5, 5), 0)\n",
    "th = cv.threshold(gray, 0, 255, cv.THRESH_BINARY_INV | cv.THRESH_OTSU)[1]\n",
    "# display_image(\"threshold\", th)\n",
    " \n",
    "# find contours\n",
    "contours = cv.findContours(th, cv.RETR_EXTERNAL, cv.CHAIN_APPROX_SIMPLE)[0]\n",
    "len(contours) # 14\n",
    "\n",
    "# get the largest contour (post processing)\n",
    "contour_largest = sorted(contours, key=cv.contourArea, reverse=True)[0]\n",
    "    \n",
    "# draw contours\n",
    "img_copy = img.copy()\n",
    "cv.drawContours(img_copy, [contour_largest], 0, (0, 0, 255), 2)\n",
    "# display_image(\"contour\", img_copy)\n",
    "\n",
    "# draw bounding box\n",
    "img_copy = img.copy()\n",
    "x,y,w,h = cv.boundingRect(contour_largest)\n",
    "cv.rectangle(img_copy, (x,y), (x+w, y+h), (0, 255, 0), 2)\n",
    "display_image(\"boat and the people on it\", img_copy)"
   ]
  }
 ],
 "metadata": {
  "kernelspec": {
   "display_name": "Python 3 (ipykernel)",
   "language": "python",
   "name": "python3"
  },
  "language_info": {
   "codemirror_mode": {
    "name": "ipython",
    "version": 3
   },
   "file_extension": ".py",
   "mimetype": "text/x-python",
   "name": "python",
   "nbconvert_exporter": "python",
   "pygments_lexer": "ipython3",
   "version": "3.12.4"
  }
 },
 "nbformat": 4,
 "nbformat_minor": 5
}
