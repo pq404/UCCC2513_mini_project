{
 "cells": [
  {
   "cell_type": "markdown",
   "id": "ce07786c-486c-447f-8f87-a6f8caf6c538",
   "metadata": {},
   "source": [
    "# Week 3 Coding Exercises"
   ]
  },
  {
   "cell_type": "code",
   "execution_count": 1,
   "id": "ff67ff58-4d37-40cc-9688-f094e9918741",
   "metadata": {},
   "outputs": [
    {
     "name": "stdout",
     "output_type": "stream",
     "text": [
      "OpenCV is using optimized code? True\n"
     ]
    }
   ],
   "source": [
    "import sys\n",
    "# Python 3.8 is required\n",
    "assert sys.version_info >= (3, 8)\n",
    "\n",
    "import cv2 as cv\n",
    "import numpy as np\n",
    "\n",
    "# Make sure that OpenCV optimization is enabled (precautinary measure)\n",
    "if not cv.useOptimized():\n",
    "    cv.setUseOptimized(True)\n",
    "    \n",
    "print(f\"OpenCV is using optimized code? {cv.useOptimized()}\")"
   ]
  },
  {
   "cell_type": "markdown",
   "id": "a7af7b66-e4c1-47af-8369-2e1741cb6c14",
   "metadata": {},
   "source": [
    "1. Load and display the image 'dog.jfif'. Save the image in png format."
   ]
  },
  {
   "cell_type": "code",
   "execution_count": 2,
   "id": "ceb81283-87e3-4b06-9777-5f0a5ae46fed",
   "metadata": {},
   "outputs": [],
   "source": [
    "# Question 1\n",
    "img = cv.imread(\"images/dog.jfif\")\n",
    "\n",
    "if img is None:\n",
    "    sys.exit(\"The file path is not detected\")\n",
    "\n",
    "cv.imshow(\"dog\", img)\n",
    "k = cv.waitKey(0) & 0xFF  # waiting for user input\n",
    "if k == ord(\"s\"):\n",
    "    cv.imwrite(\"dog.png\", img)\n",
    "\n",
    "cv.destroyAllWindows()"
   ]
  },
  {
   "cell_type": "markdown",
   "id": "36ae1ca1-dba7-40b7-895d-de7b4bb8a37f",
   "metadata": {},
   "source": [
    "2. *Suggest 2 ways and write codes to display 2 images simultaneously.* You can use any image snapped from your handphone, downloaded from internet or images from weekly materials on MS teams. The 2 images are original color image and its corresponding grayscale image."
   ]
  },
  {
   "cell_type": "code",
   "execution_count": 3,
   "id": "afedb2bb-85fe-498f-bd47-218ae6cae3bc",
   "metadata": {},
   "outputs": [],
   "source": [
    "# Question 2\n",
    "# 1st way\n",
    "img = cv.imread(\"images/dog.jfif\") # color image\n",
    "img_grayscale = cv.imread(\"images/dog.png\", 0 ) # grayscale image\n",
    "\n",
    "cv.imshow(\"color\", img)\n",
    "cv.imshow(\"grayscale\", img_grayscale)\n",
    "cv.waitKey(0) # waiting for user action\n",
    "cv.destroyAllWindows()"
   ]
  },
  {
   "cell_type": "markdown",
   "id": "c8b86967-7334-47f3-85a0-889a2d84ac4d",
   "metadata": {},
   "source": [
    "3. Write codes that performs the following:\n",
    "    * Load the video “img_pexels.mp4” into the Python environment, resize it and display the videos with smaller frames (The frames can be of any size, as long as it is smaller). You can specify an arbitrary frame rate.\n",
    "    * Save it as a separate files: “smaller_img_pexels.avi” or \"smaller_img_pexels.mp4\""
   ]
  },
  {
   "cell_type": "code",
   "execution_count": 6,
   "id": "b5d94d2f-68eb-4d40-a2aa-b7c5be77916a",
   "metadata": {},
   "outputs": [],
   "source": [
    "# Question 3\n",
    "# Create a VideoCapture object\n",
    "cap = cv.VideoCapture('videos/img_pexels.mp4')\n",
    "\n",
    "# Check if the object has been created successfully\n",
    "if not cap.isOpened():\n",
    "    raise Exception(\"No video detected\")\n",
    "\n",
    "# define a new save object, fourcc (identifier) width, height and fps\n",
    "width = int(cap.get(3))   # width\n",
    "height = int(cap.get(4))  # height\n",
    "fourcc = cv.VideoWriter_fourcc(\"M\", \"J\", \"P\", \"G\")\n",
    "fps = 15\n",
    "new_width = width // 5\n",
    "new_height = height // 5\n",
    "\n",
    "# Create VideoWriter object for frame_resized \n",
    "out = cv.VideoWriter( \"video2.avi\", fourcc, fps, (new_width, new_height))\n",
    "\n",
    "# Read the frames with loop\n",
    "while cap.isOpened():\n",
    "    ret, frame = cap.read()  # ret is status (boolean), frame is the image\n",
    "    \n",
    "    if not ret:\n",
    "        print(\"No frame received\")\n",
    "        break\n",
    "\n",
    "    # write and save frame\n",
    "    frame_resized = cv.resize(frame, (new_width, new_height))\n",
    "    out.write(frame_resized)\n",
    "\n",
    "    # show image\n",
    "    cv.namedWindow(\"frame_resized\", cv.WINDOW_NORMAL)\n",
    "    cv.imshow(\"frame_resized\", frame_resized)\n",
    "    \n",
    "    # Press Esc key to exit (27 is ASCII code for Esc). cv.waitKey() returns 32 bit integer values.\n",
    "    k = cv.waitKey(1) & 0xFF\n",
    "    if k == 27:   # \"ascii code\"\n",
    "        break\n",
    "        \n",
    "cap.release()\n",
    "out.release()\n",
    "cv.destroyAllWindows()"
   ]
  },
  {
   "cell_type": "code",
   "execution_count": 7,
   "id": "6e73cbd2-a916-4e00-b1d1-baae55e441c2",
   "metadata": {},
   "outputs": [
    {
     "name": "stdout",
     "output_type": "stream",
     "text": [
      "Original frame: 1080x1920, Resized frame: 216x384\n"
     ]
    }
   ],
   "source": [
    "print(f'Original frame: {frame.shape[1]}x{frame.shape[0]}, Resized frame: {frame_resized.shape[1]}x{frame_resized.shape[0]}')"
   ]
  },
  {
   "cell_type": "markdown",
   "id": "f97fb3fa-92a7-47e1-a2e5-ea718ec1deb1",
   "metadata": {},
   "source": [
    "4. Enlarge the image \"dog.jfif\" by using different techniques:\n",
    "    1) Linear interpolation\n",
    "   2) Cubic interpolation\n",
    "   3) Nearest neighbor interpolation.\n",
    "\n",
    "Upscale the images by **4 times** on its respective dimensions. Perform profiling on each method. Comment on the **execution times** and **quality of resulting images**."
   ]
  },
  {
   "cell_type": "code",
   "execution_count": 2,
   "id": "a95edd31-1b20-4b1e-b1c7-c35a4bba5c46",
   "metadata": {},
   "outputs": [],
   "source": [
    "from utils import display_images\n",
    "import time as t"
   ]
  },
  {
   "cell_type": "code",
   "execution_count": 10,
   "id": "eb51930c-4cb2-41fe-b969-45dc0441de8b",
   "metadata": {},
   "outputs": [
    {
     "name": "stdout",
     "output_type": "stream",
     "text": [
      "(168, 300, 3)\n"
     ]
    }
   ],
   "source": [
    "# Question 4\n",
    "img = cv.imread(\"images/dog.jfif\")\n",
    "print(img.shape)"
   ]
  },
  {
   "cell_type": "code",
   "execution_count": 3,
   "id": "eaeb471c-f505-4c73-9731-7388474da165",
   "metadata": {},
   "outputs": [
    {
     "name": "stdout",
     "output_type": "stream",
     "text": [
      "Execution Time: 0.009996891021728516 seconds\n"
     ]
    }
   ],
   "source": [
    "# A. Linear interpolation\n",
    "# 1st method\n",
    "img = cv.imread(\"images/dog.jfif\")\n",
    "new_dim = (1200, 672)  # (height,width)\n",
    "start_time = t.time()\n",
    "img_resize = cv.resize(img, new_dim, interpolation=cv.INTER_LINEAR)\n",
    "end_time = t.time()\n",
    "\n",
    "# Calculate execution time\n",
    "execution_time = end_time - start_time\n",
    "\n",
    "display_images([img, img_resize], (\"original\", \"resize\"))\n",
    "print(f\"Execution Time: {execution_time} seconds\")"
   ]
  },
  {
   "cell_type": "code",
   "execution_count": 5,
   "id": "02d5bea5-64c7-4bdf-8c06-f791af9ab767",
   "metadata": {},
   "outputs": [
    {
     "name": "stdout",
     "output_type": "stream",
     "text": [
      "Execution Time: 0.003000497817993164 seconds\n"
     ]
    }
   ],
   "source": [
    "# 2nd method\n",
    "img = cv.imread(\"images/dog.jfif\")\n",
    "fx, fy = 4, 4\n",
    "start_time = t.time()\n",
    "img_resize = cv.resize(img, None, fx=fx, fy=fy, interpolation=cv.INTER_LINEAR)\n",
    "end_time = t.time()\n",
    "\n",
    "# Calculate execution time\n",
    "execution_time = end_time - start_time\n",
    "\n",
    "display_images([img, img_resize], (\"original\", \"resize\"))\n",
    "print(f\"Execution Time: {execution_time} seconds\")"
   ]
  },
  {
   "cell_type": "code",
   "execution_count": 5,
   "id": "5fb9af62-f24b-424e-9f64-f3da95fe1cf2",
   "metadata": {},
   "outputs": [
    {
     "data": {
      "text/plain": [
       "(672, 1200, 3)"
      ]
     },
     "execution_count": 5,
     "metadata": {},
     "output_type": "execute_result"
    }
   ],
   "source": [
    "img_resize.shape"
   ]
  },
  {
   "cell_type": "code",
   "execution_count": 6,
   "id": "149e4df2-a784-4f86-a537-26815b632ba3",
   "metadata": {},
   "outputs": [
    {
     "name": "stdout",
     "output_type": "stream",
     "text": [
      "Execution Time: 0.006003618240356445 seconds\n"
     ]
    }
   ],
   "source": [
    "# B. Cubic interpolation\n",
    "# 1st method\n",
    "img = cv.imread(\"images/dog.jfif\")\n",
    "new_dim = (1200, 672)  # (height,width)\n",
    "start_time = t.time()\n",
    "img_resize = cv.resize(img, new_dim, interpolation=cv.INTER_CUBIC)\n",
    "end_time = t.time()\n",
    "\n",
    "# Calculate execution time\n",
    "execution_time = end_time - start_time\n",
    "\n",
    "display_images([img, img_resize], (\"original\", \"resize\"))\n",
    "print(f\"Execution Time: {execution_time} seconds\")"
   ]
  },
  {
   "cell_type": "code",
   "execution_count": 7,
   "id": "d57c6dae-a86e-46fe-9b27-5619b7d536c2",
   "metadata": {},
   "outputs": [
    {
     "name": "stdout",
     "output_type": "stream",
     "text": [
      "Execution Time: 0.003000974655151367 seconds\n"
     ]
    }
   ],
   "source": [
    "# 2nd method\n",
    "img = cv.imread(\"images/dog.jfif\")\n",
    "fx, fy = 4, 4\n",
    "start_time = t.time()\n",
    "img_resize = cv.resize(img, None, fx=fx, fy=fy, interpolation=cv.INTER_CUBIC)\n",
    "end_time = t.time()\n",
    "\n",
    "# Calculate execution time\n",
    "execution_time = end_time - start_time\n",
    "\n",
    "display_images([img, img_resize], (\"original\", \"resize\"))\n",
    "print(f\"Execution Time: {execution_time} seconds\")"
   ]
  },
  {
   "cell_type": "code",
   "execution_count": 8,
   "id": "5240274e-16f9-43e3-8265-7abb24c9ea34",
   "metadata": {},
   "outputs": [
    {
     "name": "stdout",
     "output_type": "stream",
     "text": [
      "Execution Time: 0.0019974708557128906 seconds\n"
     ]
    }
   ],
   "source": [
    "# C. Nearest neighbor interpolation.\n",
    "# 1st method\n",
    "img = cv.imread(\"images/dog.jfif\")\n",
    "new_dim = (1200, 672)  # (height,width)\n",
    "start_time = t.time()\n",
    "img_resize = cv.resize(img, new_dim, interpolation=cv.INTER_NEAREST)\n",
    "end_time = t.time()\n",
    "\n",
    "# Calculate execution time\n",
    "execution_time = end_time - start_time\n",
    "\n",
    "display_images([img, img_resize], (\"original\", \"resize\"))\n",
    "print(f\"Execution Time: {execution_time} seconds\")"
   ]
  },
  {
   "cell_type": "code",
   "execution_count": 9,
   "id": "9333e158-4744-48a9-aed5-f8457220694c",
   "metadata": {},
   "outputs": [
    {
     "name": "stdout",
     "output_type": "stream",
     "text": [
      "Execution Time: 0.0009989738464355469 seconds\n"
     ]
    }
   ],
   "source": [
    "# 2nd method\n",
    "img = cv.imread(\"images/dog.jfif\")\n",
    "fx, fy = 4, 4\n",
    "start_time = t.time()\n",
    "img_resize = cv.resize(img, None, fx=fx, fy=fy, interpolation=cv.INTER_NEAREST)\n",
    "end_time = t.time()\n",
    "\n",
    "# Calculate execution time\n",
    "execution_time = end_time - start_time\n",
    "\n",
    "display_images([img, img_resize], (\"original\", \"resize\"))\n",
    "print(f\"Execution Time: {execution_time} seconds\")"
   ]
  },
  {
   "cell_type": "markdown",
   "id": "94b35c19-99d5-4583-b2b3-02f554e561fc",
   "metadata": {},
   "source": [
    "Generally, the execution time of second method is shorter than the first method, whereas in term of techniques used, nearest neighbor interpolation has the shortest execution time, followed by cubic interpolation and linear interpolation.\n",
    "However, the nearest neighbor interpolation has the worst quality of resulting images among the three techniques as we can see the square pixel on the image executed. The linear interpolation has the smoother image compared to cubic interpolation, the quality of resulting images is slightly blurring for cubic interpolation, while linear interpolation will be better and clearer."
   ]
  },
  {
   "cell_type": "code",
   "execution_count": null,
   "id": "8433a23d-0307-4a4b-bba0-a3e3b8b1a190",
   "metadata": {},
   "outputs": [],
   "source": []
  }
 ],
 "metadata": {
  "kernelspec": {
   "display_name": "Python 3 (ipykernel)",
   "language": "python",
   "name": "python3"
  },
  "language_info": {
   "codemirror_mode": {
    "name": "ipython",
    "version": 3
   },
   "file_extension": ".py",
   "mimetype": "text/x-python",
   "name": "python",
   "nbconvert_exporter": "python",
   "pygments_lexer": "ipython3",
   "version": "3.12.4"
  }
 },
 "nbformat": 4,
 "nbformat_minor": 5
}
